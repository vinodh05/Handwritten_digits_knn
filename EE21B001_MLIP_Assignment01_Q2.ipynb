{
  "nbformat": 4,
  "nbformat_minor": 0,
  "metadata": {
    "colab": {
      "provenance": []
    },
    "kernelspec": {
      "name": "python3",
      "display_name": "Python 3"
    },
    "language_info": {
      "name": "python"
    }
  },
  "cells": [
    {
      "cell_type": "markdown",
      "source": [
        "Question 2"
      ],
      "metadata": {
        "id": "cC-yl9YxxVgX"
      }
    },
    {
      "cell_type": "code",
      "execution_count": 21,
      "metadata": {
        "colab": {
          "base_uri": "https://localhost:8080/"
        },
        "id": "eZhZhZrsxRQA",
        "outputId": "0a765fad-7bef-40d4-8977-9d5065915ae3"
      },
      "outputs": [
        {
          "output_type": "stream",
          "name": "stdout",
          "text": [
            "Feature vector Dimension-  19\n",
            "Classes -  ['BRICKFACE' 'CEMENT' 'FOLIAGE' 'GRASS' 'PATH' 'SKY' 'WINDOW']\n",
            "Number of Classes -  7\n",
            "Prior probability of each class -  [0.14285714 0.14285714 0.14285714 0.14285714 0.14285714 0.14285714\n",
            " 0.14285714]\n",
            "Mean vector dimension 19\n",
            "covariance matrix dimension 19  X  19\n"
          ]
        }
      ],
      "source": [
        "# Dataset 1 : Image Segmentation\n",
        "\n",
        "# first column is the label\n",
        "\n",
        "import pandas as pd\n",
        "import numpy as np\n",
        "df1 = pd.read_excel(\"/content/ImageSegData.xls\",header = None)\n",
        "#print(df1)\n",
        "data1 = np.asarray(df1)\n",
        "classes = data1[:,:1]\n",
        "#print(classes)\n",
        "feature_vector=data1[:,1:]\n",
        "#print(feature_vector)\n",
        "\n",
        "\n",
        "###Feature_vector dimension\n",
        "print(\"Feature vector Dimension- \",feature_vector.shape[1])\n",
        "\n",
        "### Classes\n",
        "classes_unique,k = np.unique(classes,return_counts = True)\n",
        "print(\"Classes - \",classes_unique)\n",
        "print(\"Number of Classes - \",len(classes_unique))\n",
        "\n",
        "### Prior Probability for each class\n",
        "prior = k/(k.sum())\n",
        "print(\"Prior probability of each class - \",prior)\n",
        "\n",
        "### Mean vector dimension\n",
        "mean_vector = feature_vector.mean(axis=0)\n",
        "print(\"Mean vector dimension\",mean_vector.shape[0])\n",
        "\n",
        "### Covariance vector dimension\n",
        "\n",
        "print(\"covariance matrix dimension\",mean_vector.shape[0],\" X \",mean_vector.shape[0])"
      ]
    },
    {
      "cell_type": "code",
      "source": [
        "# Dataset 2 : Ionosphere  --> last column is the label\n",
        "\n",
        "import pandas as pd\n",
        "import numpy as np\n",
        "df2 = pd.read_excel(\"/content/ionosphere.xls\",header = None)\n",
        "#print(df2)\n",
        "data2 = np.asarray(df2)\n",
        "classes = data2[:,-1]\n",
        "#print(classes)\n",
        "feature_vector=data2[:,:data2.shape[1]-1]\n",
        "#print(feature_vector)\n",
        "\n",
        "\n",
        "###Feature_vector dimension\n",
        "print(\"Feature vector Dimension- \",feature_vector.shape[1])\n",
        "\n",
        "### Classes\n",
        "classes_unique,k = np.unique(classes,return_counts = True)\n",
        "print(\"Classes - \",classes_unique)\n",
        "print(\"Number of Classes - \",len(classes_unique))\n",
        "\n",
        "### Prior Probability for each class\n",
        "prior = k/(k.sum())\n",
        "print(\"Prior probability of each class - \",prior)\n",
        "\n",
        "### Mean vector dimension\n",
        "mean_vector = feature_vector.mean(axis=0)\n",
        "print(\"Mean vector dimension\",mean_vector.shape[0])\n",
        "\n",
        "### Covariance vector dimension\n",
        "\n",
        "print(\"covariance matrix dimension\",mean_vector.shape[0],\" X \",mean_vector.shape[0])"
      ],
      "metadata": {
        "colab": {
          "base_uri": "https://localhost:8080/"
        },
        "id": "-tYGHPtY3j2d",
        "outputId": "5586f25b-5a4e-47af-c8fe-c79b2d9c44a7"
      },
      "execution_count": 30,
      "outputs": [
        {
          "output_type": "stream",
          "name": "stdout",
          "text": [
            "Feature vector Dimension-  34\n",
            "Classes -  ['b' 'g']\n",
            "Number of Classes -  2\n",
            "Prior probability of each class -  [0.35897436 0.64102564]\n",
            "Mean vector dimension 34\n",
            "covariance matrix dimension 34  X  34\n"
          ]
        }
      ]
    },
    {
      "cell_type": "code",
      "source": [
        "# Dataset 3 : Iris dataset --> last column is the label\n",
        "\n",
        "import pandas as pd\n",
        "import numpy as np\n",
        "df3 = pd.read_excel(\"/content/irisdata.xls\",header = None)\n",
        "#print(df3)\n",
        "data3 = np.asarray(df3)\n",
        "classes = data3[:,-1]\n",
        "#print(classes)\n",
        "feature_vector=data3[:,:data3.shape[1]-1]\n",
        "#print(feature_vector)\n",
        "\n",
        "\n",
        "###Feature_vector dimension\n",
        "print(\"Feature vector Dimension- \",feature_vector.shape[1])\n",
        "\n",
        "### Classes\n",
        "classes_unique,k = np.unique(classes,return_counts = True)\n",
        "print(\"Classes - \",classes_unique)\n",
        "print(\"Number of Classes - \",len(classes_unique))\n",
        "\n",
        "### Prior Probability for each class\n",
        "prior = k/(k.sum())\n",
        "print(\"Prior probability of each class - \",prior)\n",
        "\n",
        "### Mean vector dimension\n",
        "mean_vector = feature_vector.mean(axis=0)\n",
        "print(\"Mean vector dimension\",mean_vector.shape[0])\n",
        "\n",
        "### Covariance vector dimension\n",
        "\n",
        "print(\"covariance matrix dimension\",mean_vector.shape[0],\" X \",mean_vector.shape[0])"
      ],
      "metadata": {
        "colab": {
          "base_uri": "https://localhost:8080/"
        },
        "id": "AcZcjVxe6U2Y",
        "outputId": "074abc96-49d1-476f-a14a-43eeb171599b"
      },
      "execution_count": 31,
      "outputs": [
        {
          "output_type": "stream",
          "name": "stdout",
          "text": [
            "Feature vector Dimension-  4\n",
            "Classes -  ['Iris-setosa' 'Iris-versicolor' 'Iris-virginica']\n",
            "Number of Classes -  3\n",
            "Prior probability of each class -  [0.33333333 0.33333333 0.33333333]\n",
            "Mean vector dimension 4\n",
            "covariance matrix dimension 4  X  4\n"
          ]
        }
      ]
    },
    {
      "cell_type": "code",
      "source": [
        "# Dataset 4 : Letter Recognition dataset --> first column is the label\n",
        "\n",
        "import pandas as pd\n",
        "import numpy as np\n",
        "df4 = pd.read_excel(\"/content/letterRecognition.xls\",header = None)\n",
        "#print(df4)\n",
        "data4 = np.asarray(df4)\n",
        "classes = data4[:,:1]\n",
        "#print(classes)\n",
        "feature_vector=data4[:,1:]\n",
        "#print(feature_vector)\n",
        "\n",
        "\n",
        "###Feature_vector dimension\n",
        "print(\"Feature vector Dimension- \",feature_vector.shape[1])\n",
        "\n",
        "### Classes\n",
        "classes_unique,k = np.unique(classes,return_counts = True)\n",
        "print(\"Classes - \",classes_unique)\n",
        "print(\"Number of Classes - \",len(classes_unique))\n",
        "\n",
        "### Prior Probability for each class\n",
        "prior = k/(k.sum())\n",
        "print(\"Prior probability of each class - \",prior)\n",
        "\n",
        "### Mean vector dimension\n",
        "mean_vector = feature_vector.mean(axis=0)\n",
        "print(\"Mean vector dimension\",mean_vector.shape[0])\n",
        "\n",
        "### Covariance vector dimension\n",
        "\n",
        "print(\"covariance matrix dimension\",mean_vector.shape[0],\" X \",mean_vector.shape[0])"
      ],
      "metadata": {
        "colab": {
          "base_uri": "https://localhost:8080/"
        },
        "id": "mAz9y4cO7HzO",
        "outputId": "5fbab69f-9ffb-422a-e0e0-228a36425d18"
      },
      "execution_count": 32,
      "outputs": [
        {
          "output_type": "stream",
          "name": "stdout",
          "text": [
            "Feature vector Dimension-  16\n",
            "Classes -  ['A' 'B' 'C' 'D' 'E' 'F' 'G' 'H' 'I' 'J' 'K' 'L' 'M' 'N' 'O' 'P' 'Q' 'R'\n",
            " 'S' 'T' 'U' 'V' 'W' 'X' 'Y' 'Z']\n",
            "Number of Classes -  26\n",
            "Prior probability of each class -  [0.03945 0.0383  0.0368  0.04025 0.0384  0.03875 0.03865 0.0367  0.03775\n",
            " 0.03735 0.03695 0.03805 0.0396  0.03915 0.03765 0.04015 0.03915 0.0379\n",
            " 0.0374  0.0398  0.04065 0.0382  0.0376  0.03935 0.0393  0.0367 ]\n",
            "Mean vector dimension 16\n",
            "covariance matrix dimension 16  X  16\n"
          ]
        }
      ]
    },
    {
      "cell_type": "code",
      "source": [
        "# Dataset 5 : Liver Order dataset --> last column is the label\n",
        "\n",
        "import pandas as pd\n",
        "import numpy as np\n",
        "df5 = pd.read_excel(\"/content/LiverDisorders.xls\",header = None)\n",
        "#print(df5)\n",
        "data5 = np.asarray(df5)\n",
        "classes = data5[:,-1]\n",
        "#print(classes)\n",
        "feature_vector=data5[:,:data5.shape[1]-1]\n",
        "#print(feature_vector)\n",
        "\n",
        "\n",
        "###Feature_vector dimension\n",
        "print(\"Feature vector Dimension- \",feature_vector.shape[1])\n",
        "\n",
        "### Classes\n",
        "classes_unique,k = np.unique(classes,return_counts = True)\n",
        "print(\"Classes - \",classes_unique)\n",
        "print(\"Number of Classes - \",len(classes_unique))\n",
        "\n",
        "### Prior Probability for each class\n",
        "prior = k/(k.sum())\n",
        "print(\"Prior probability of each class - \",prior)\n",
        "\n",
        "### Mean vector dimension\n",
        "mean_vector = feature_vector.mean(axis=0)\n",
        "print(\"Mean vector dimension\",mean_vector.shape[0])\n",
        "\n",
        "### Covariance vector dimension\n",
        "\n",
        "print(\"covariance matrix dimension\",mean_vector.shape[0],\" X \",mean_vector.shape[0])"
      ],
      "metadata": {
        "colab": {
          "base_uri": "https://localhost:8080/"
        },
        "id": "oW_WkKe37-t8",
        "outputId": "ee4102c1-e6b8-43e2-bb86-3db45daca1d3"
      },
      "execution_count": 33,
      "outputs": [
        {
          "output_type": "stream",
          "name": "stdout",
          "text": [
            "Feature vector Dimension-  6\n",
            "Classes -  [1. 2.]\n",
            "Number of Classes -  2\n",
            "Prior probability of each class -  [0.42028986 0.57971014]\n",
            "Mean vector dimension 6\n",
            "covariance matrix dimension 6  X  6\n"
          ]
        }
      ]
    },
    {
      "cell_type": "markdown",
      "source": [],
      "metadata": {
        "id": "Y7l7V91pxU18"
      }
    }
  ]
}