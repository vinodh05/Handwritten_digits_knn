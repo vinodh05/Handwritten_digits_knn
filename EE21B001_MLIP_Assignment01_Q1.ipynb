{
  "nbformat": 4,
  "nbformat_minor": 0,
  "metadata": {
    "colab": {
      "provenance": []
    },
    "kernelspec": {
      "name": "python3",
      "display_name": "Python 3"
    },
    "language_info": {
      "name": "python"
    }
  },
  "cells": [
    {
      "cell_type": "markdown",
      "source": [
        "Question 1: Task1(K-NN Classification using Euclidean distance)"
      ],
      "metadata": {
        "id": "6bjnKAvgtjUK"
      }
    },
    {
      "cell_type": "code",
      "execution_count": 38,
      "metadata": {
        "colab": {
          "base_uri": "https://localhost:8080/"
        },
        "id": "vcT80vvhsN0P",
        "outputId": "7cbc1556-636b-4138-b08e-1f538308e379"
      },
      "outputs": [
        {
          "output_type": "stream",
          "name": "stdout",
          "text": [
            "[90.60000000000001, 92.4, 91.2, 90.8, 89.0]\n"
          ]
        }
      ],
      "source": [
        "# Loading the dataset and dividing into labels and features\n",
        "import scipy.io\n",
        "import numpy as np\n",
        "from statistics import mode\n",
        "\n",
        "mat_train = scipy.io.loadmat(\"/content/mnist_train.mat\")\n",
        "mat_test = scipy.io.loadmat(\"/content/mnist_test.mat\")\n",
        "train_data_labels = np.array(mat_train[\"traindata\"][:,0]).astype(int)\n",
        "test_data_labels = np.array(mat_test[\"testdata\"][:,0]).astype(int)\n",
        "train_data_features = np.array(mat_train[\"traindata\"][:,1:]).astype(int)\n",
        "test_data_features = np.array(mat_test[\"testdata\"][:,1:]).astype(int)\n",
        "\n",
        "# function to calculate euclidean distance\n",
        "\n",
        "def EuclideanDistance(sample_one,sample_two):\n",
        "  return np.sqrt(np.sum((sample_one - sample_two)**2))\n",
        "\n",
        "\n",
        "# function to find nearest neighbours and returns the predicted test labels for a given k\n",
        "\n",
        "def knn_neighbours(train_data_features,train_data_labels,test_data_features,k):\n",
        "  predicted_test_data_labels = []\n",
        "  for x1 in test_data_features:\n",
        "    distance  = [EuclideanDistance(x1,x2) for x2 in train_data_features]\n",
        "    k_nearest_indices = np.argsort(distance)[:k]\n",
        "    k_nearest_labels = train_data_labels[k_nearest_indices]\n",
        "    predicted_label = mode(k_nearest_labels)\n",
        "    predicted_test_data_labels.append(predicted_label)\n",
        "  return np.array(predicted_test_data_labels)\n",
        "\n",
        "# function to check accuracy for different k by validating predicted test labels and actual test labels\n",
        "\n",
        "k_values = [1,3,5,9,11]\n",
        "accuracies = []\n",
        "for k in k_values :\n",
        "  predicted_labels = knn_neighbours(train_data_features,train_data_labels,test_data_features,k)\n",
        "  matched_labels = (np.sum(test_data_labels == predicted_labels)/len(test_data_labels))*100\n",
        "  accuracies.append(matched_labels)\n",
        "\n",
        "print(accuracies)\n"
      ]
    },
    {
      "cell_type": "code",
      "source": [
        "import matplotlib.pyplot as plt\n",
        "plt.figure()\n",
        "plt.xlabel(\"k\")\n",
        "plt.ylabel(\"Accuracy\")\n",
        "plt.title(\"Accuracy vs k\")\n",
        "plt.plot(k_values,accuracies)\n",
        "plt.show()"
      ],
      "metadata": {
        "colab": {
          "base_uri": "https://localhost:8080/",
          "height": 472
        },
        "id": "5j2-cggY_i0K",
        "outputId": "89aece29-fde2-4691-fddc-51a595f0ef44"
      },
      "execution_count": 44,
      "outputs": [
        {
          "output_type": "display_data",
          "data": {
            "text/plain": [
              "<Figure size 640x480 with 1 Axes>"
            ],
            "image/png": "[encoded data removed]"
          },
          "metadata": {}
        }
      ]
    },
    {
      "cell_type": "markdown",
      "source": [
        "Question 1: Task1(K-NN Classification using NCC)\n"
      ],
      "metadata": {
        "id": "jC9PUxPERwH7"
      }
    },
    {
      "cell_type": "code",
      "source": [
        "# Loading the dataset and dividing into labels and features\n",
        "import scipy.io\n",
        "import numpy as np\n",
        "from statistics import mode\n",
        "\n",
        "mat_train = scipy.io.loadmat(\"/content/mnist_train.mat\")\n",
        "mat_test = scipy.io.loadmat(\"/content/mnist_test.mat\")\n",
        "train_data_labels = np.array(mat_train[\"traindata\"][:,0]).astype(int)\n",
        "test_data_labels = np.array(mat_test[\"testdata\"][:,0]).astype(int)\n",
        "train_data_features = np.array(mat_train[\"traindata\"][:,1:]).astype(int)\n",
        "test_data_features = np.array(mat_test[\"testdata\"][:,1:]).astype(int)\n",
        "\n",
        "# function to calculate NCC\n",
        "\n",
        "def NCC(sample_one,sample_two):\n",
        "  numerator = sample_one@(sample_two.T)\n",
        "  denominator = np.sqrt(np.sum(sample_one*2))*np.sqrt(np.sum(sample_two*2))\n",
        "  return 1 - numerator/denominator\n",
        "\n",
        "\n",
        "# function to find nearest neighbours and returns the predicted test labels for a given k\n",
        "\n",
        "def knn_neighbours(train_data_features,train_data_labels,test_data_features,k):\n",
        "  predicted_test_data_labels = []\n",
        "  for x1 in test_data_features:\n",
        "    distance  = [NCC(x1,x2) for x2 in train_data_features]\n",
        "    k_nearest_indices = np.argsort(distance)[:k]\n",
        "    k_nearest_labels = train_data_labels[k_nearest_indices]\n",
        "    predicted_label = mode(k_nearest_labels)\n",
        "    predicted_test_data_labels.append(predicted_label)\n",
        "  return np.array(predicted_test_data_labels)\n",
        "\n",
        "# function to check accuracy for different k by validating predicted test labels and actual test labels\n",
        "\n",
        "k_values = [1,3,5,9,11]\n",
        "accuracies = []\n",
        "for k in k_values :\n",
        "  predicted_labels = knn_neighbours(train_data_features,train_data_labels,test_data_features,k)\n",
        "  matched_labels = (np.sum(test_data_labels == predicted_labels)/len(test_data_labels))*100\n",
        "  accuracies.append(matched_labels)\n",
        "\n",
        "print(accuracies)\n"
      ],
      "metadata": {
        "id": "ShI_T-I3ABtX"
      },
      "execution_count": null,
      "outputs": []
    },
    {
      "cell_type": "markdown",
      "source": [
        "Based On Histogram:"
      ],
      "metadata": {
        "id": "sRRTlBxLDHnz"
      }
    },
    {
      "cell_type": "code",
      "source": [
        "test_feature_histogram = []\n",
        "histograms = []\n",
        "for row in test_data_features:\n",
        "  histo,_ = np.histogram(row,bins = 784,range=(0,784))\n",
        "  histograms.append(histo)\n",
        "  test_feature_histogram = np.array(histograms)\n",
        "\n",
        "test_feature_histogram.shape\n",
        "\n",
        "train_feature_histogram = []\n",
        "histograms = []\n",
        "for row in train_data_features:\n",
        "  histo,_ = np.histogram(row,bins = 784,range=(0,784))\n",
        "  histograms.append(histo)\n",
        "  train_feature_histogram = np.array(histograms)\n",
        "\n",
        "train_feature_histogram.shape\n",
        "\n",
        "k_values = [1, 3, 5, 9]\n",
        "hist_accuracies = []\n",
        "for k in k_values:\n",
        "  hist_test_label_preds = knn_neighbours(train_feature_histogram, train_data_label, test_features_histogram, k)\n",
        "  print(hist_test_label_preds.shape)\n",
        "  common_labels_hist = (np.sum(test_data_label == hist_test_label_preds)/len(test_data_label))*100\n",
        "  hist_accuracies.append(common_labels_hist)\n",
        "\n",
        "print(hist_accuracies)"
      ],
      "metadata": {
        "id": "z6qigcjFWCFy"
      },
      "execution_count": 67,
      "outputs": []
    }
  ]
}